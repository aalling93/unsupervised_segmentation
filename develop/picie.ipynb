{
 "cells": [
  {
   "cell_type": "code",
   "execution_count": null,
   "metadata": {},
   "outputs": [],
   "source": [
    "a = 2"
   ]
  },
  {
   "cell_type": "code",
   "execution_count": null,
   "metadata": {},
   "outputs": [],
   "source": [
    "import sys\n",
    "import backbone"
   ]
  },
  {
   "cell_type": "code",
   "execution_count": 8,
   "metadata": {},
   "outputs": [],
   "source": [
    "import torch \n",
    "import torch.nn as nn \n",
    "import torch.nn.functional as F \n",
    "\n",
    "\n",
    "\n",
    "class PanopticFPN(nn.Module):\n",
    "    def __init__(self, args):\n",
    "        super(PanopticFPN, self).__init__()\n",
    "        self.backbone = backbone.__dict__[args.arch](pretrained=args.pretrain)\n",
    "        self.decoder  = FPNDecoder(args)\n",
    "\n",
    "    def forward(self, x):\n",
    "        feats = self.backbone(x)\n",
    "        outs  = self.decoder(feats) \n",
    "\n",
    "        return outs \n",
    "\n",
    "class FPNDecoder(nn.Module):\n",
    "    def __init__(self, args):\n",
    "        super(FPNDecoder, self).__init__()\n",
    "        if args.arch == 'resnet18':\n",
    "            mfactor = 1\n",
    "            out_dim = 128 \n",
    "        else:\n",
    "            mfactor = 4\n",
    "            out_dim = 256\n",
    "\n",
    "        self.layer4 = nn.Conv2d(512*mfactor//8, out_dim, kernel_size=1, stride=1, padding=0)\n",
    "        self.layer3 = nn.Conv2d(512*mfactor//4, out_dim, kernel_size=1, stride=1, padding=0)\n",
    "        self.layer2 = nn.Conv2d(512*mfactor//2, out_dim, kernel_size=1, stride=1, padding=0)\n",
    "        self.layer1 = nn.Conv2d(512*mfactor, out_dim, kernel_size=1, stride=1, padding=0)\n",
    "\n",
    "    def forward(self, x):\n",
    "        o1 = self.layer1(x['res5'])\n",
    "        o2 = self.upsample_add(o1, self.layer2(x['res4']))\n",
    "        o3 = self.upsample_add(o2, self.layer3(x['res3']))\n",
    "        o4 = self.upsample_add(o3, self.layer4(x['res2']))\n",
    "\n",
    "        return o4\n",
    "\n",
    "    def upsample_add(self, x, y):\n",
    "        _, _, H, W = y.size()\n",
    "\n",
    "        return F.interpolate(x, size=(H, W), mode='bilinear', align_corners=False) + y "
   ]
  },
  {
   "cell_type": "code",
   "execution_count": 5,
   "metadata": {},
   "outputs": [],
   "source": [
    "import argparse\n",
    "import os\n",
    "import time as t\n",
    "import numpy as np\n",
    "\n",
    "def parse_arguments():\n",
    "    parser = argparse.ArgumentParser()\n",
    "    #parser.add_argument('--data_root', type=str, required=True)\n",
    "    #parser.add_argument('--save_root', type=str, required=True)\n",
    "\n",
    "    parser.add_argument('--data_root', type=str, required=False)\n",
    "    parser.add_argument('--save_root', type=str, required=False)\n",
    "\n",
    "\n",
    "    parser.add_argument('--restart_path', type=str)\n",
    "    parser.add_argument('--comment', type=str, default='')\n",
    "    parser.add_argument('--seed', type=int, default=2021, help='Random seed for reproducability.')\n",
    "    parser.add_argument('--num_workers', type=int, default=4, help='Number of workers.')\n",
    "    parser.add_argument('--restart', action='store_true', default=False)\n",
    "    parser.add_argument('--num_epoch', type=int, default=10) \n",
    "    parser.add_argument('--repeats', type=int, default=0)  \n",
    "\n",
    "    # Train. \n",
    "    parser.add_argument('--arch', type=str, default='resnet18')\n",
    "    parser.add_argument('--pretrain', action='store_true', default=False)\n",
    "    parser.add_argument('--res', type=int, default=320, help='Input size.')\n",
    "    parser.add_argument('--res1', type=int, default=320, help='Input size scale from.')\n",
    "    parser.add_argument('--res2', type=int, default=640, help='Input size scale to.')\n",
    "    parser.add_argument('--batch_size_cluster', type=int, default=256)\n",
    "    parser.add_argument('--batch_size_train', type=int, default=128)\n",
    "    parser.add_argument('--batch_size_test', type=int, default=128)\n",
    "    parser.add_argument('--lr', type=float, default=1e-4)\n",
    "    parser.add_argument('--weight_decay', type=float, default=0)\n",
    "    parser.add_argument('--momentum', type=float, default=0.9)\n",
    "    parser.add_argument('--optim_type', type=str, default='Adam')\n",
    "    parser.add_argument('--num_init_batches', type=int, default=30)\n",
    "    parser.add_argument('--num_batches', type=int, default=30)\n",
    "    parser.add_argument('--kmeans_n_iter', type=int, default=30)\n",
    "    parser.add_argument('--in_dim', type=int, default=128)\n",
    "    parser.add_argument('--X', type=int, default=80)\n",
    "\n",
    "    # Loss. \n",
    "    parser.add_argument('--metric_train', type=str, default='cosine')   \n",
    "    parser.add_argument('--metric_test', type=str, default='cosine')\n",
    "    parser.add_argument('--K_train', type=int, default=27) # COCO Stuff-15 / COCO Thing-12 / COCO All-27\n",
    "    parser.add_argument('--K_test', type=int, default=27) \n",
    "    parser.add_argument('--no_balance', action='store_true', default=False)\n",
    "    parser.add_argument('--mse', action='store_true', default=False)\n",
    "\n",
    "    # Dataset. \n",
    "    parser.add_argument('--augment', action='store_true', default=False)\n",
    "    parser.add_argument('--equiv', action='store_true', default=False)\n",
    "    parser.add_argument('--min_scale', type=float, default=0.5)\n",
    "    parser.add_argument('--stuff', action='store_true', default=False)\n",
    "    parser.add_argument('--thing', action='store_true', default=False)\n",
    "    parser.add_argument('--jitter', action='store_true', default=False)\n",
    "    parser.add_argument('--grey', action='store_true', default=False)\n",
    "    parser.add_argument('--blur', action='store_true', default=False)\n",
    "    parser.add_argument('--h_flip', action='store_true', default=False)\n",
    "    parser.add_argument('--v_flip', action='store_true', default=False)\n",
    "    parser.add_argument('--random_crop', action='store_true', default=False)\n",
    "    parser.add_argument('--val_type', type=str, default='train')\n",
    "    parser.add_argument('--version', type=int, default=7)\n",
    "    parser.add_argument('--fullcoco', action='store_true', default=False)\n",
    "\n",
    "    # Eval-only\n",
    "    parser.add_argument('--eval_only', action='store_true', default=False)\n",
    "    parser.add_argument('--eval_path', type=str)\n",
    "\n",
    "    # Cityscapes-specific.\n",
    "    parser.add_argument('--cityscapes', action='store_true', default=False)\n",
    "    parser.add_argument('--label_mode', type=str, default='gtFine')\n",
    "    parser.add_argument('--long_image', action='store_true', default=False)\n",
    "    \n",
    "    return parser.parse_args()"
   ]
  },
  {
   "cell_type": "code",
   "execution_count": 6,
   "metadata": {},
   "outputs": [
    {
     "name": "stderr",
     "output_type": "stream",
     "text": [
      "usage: ipykernel_launcher.py [-h] [--data_root DATA_ROOT]\n",
      "                             [--save_root SAVE_ROOT]\n",
      "                             [--restart_path RESTART_PATH] [--comment COMMENT]\n",
      "                             [--seed SEED] [--num_workers NUM_WORKERS]\n",
      "                             [--restart] [--num_epoch NUM_EPOCH]\n",
      "                             [--repeats REPEATS] [--arch ARCH] [--pretrain]\n",
      "                             [--res RES] [--res1 RES1] [--res2 RES2]\n",
      "                             [--batch_size_cluster BATCH_SIZE_CLUSTER]\n",
      "                             [--batch_size_train BATCH_SIZE_TRAIN]\n",
      "                             [--batch_size_test BATCH_SIZE_TEST] [--lr LR]\n",
      "                             [--weight_decay WEIGHT_DECAY]\n",
      "                             [--momentum MOMENTUM] [--optim_type OPTIM_TYPE]\n",
      "                             [--num_init_batches NUM_INIT_BATCHES]\n",
      "                             [--num_batches NUM_BATCHES]\n",
      "                             [--kmeans_n_iter KMEANS_N_ITER] [--in_dim IN_DIM]\n",
      "                             [--X X] [--metric_train METRIC_TRAIN]\n",
      "                             [--metric_test METRIC_TEST] [--K_train K_TRAIN]\n",
      "                             [--K_test K_TEST] [--no_balance] [--mse]\n",
      "                             [--augment] [--equiv] [--min_scale MIN_SCALE]\n",
      "                             [--stuff] [--thing] [--jitter] [--grey] [--blur]\n",
      "                             [--h_flip] [--v_flip] [--random_crop]\n",
      "                             [--val_type VAL_TYPE] [--version VERSION]\n",
      "                             [--fullcoco] [--eval_only]\n",
      "                             [--eval_path EVAL_PATH] [--cityscapes]\n",
      "                             [--label_mode LABEL_MODE] [--long_image]\n",
      "ipykernel_launcher.py: error: argument --fullcoco: ignored explicit argument '/home/kaaso/.local/share/jupyter/runtime/kernel-v3ccf15c0873c5f27a975de9a79a729b45160280db.json'\n"
     ]
    },
    {
     "ename": "SystemExit",
     "evalue": "2",
     "output_type": "error",
     "traceback": [
      "An exception has occurred, use %tb to see the full traceback.\n",
      "\u001b[0;31mSystemExit\u001b[0m\u001b[0;31m:\u001b[0m 2\n"
     ]
    }
   ],
   "source": [
    "args = parse_arguments()"
   ]
  },
  {
   "cell_type": "code",
   "execution_count": null,
   "metadata": {},
   "outputs": [],
   "source": [
    "model = PanopticFPN()\n",
    "model = nn.DataParallel(model)\n"
   ]
  },
  {
   "cell_type": "code",
   "execution_count": null,
   "metadata": {},
   "outputs": [],
   "source": []
  }
 ],
 "metadata": {
  "kernelspec": {
   "display_name": "sar_ais",
   "language": "python",
   "name": "python3"
  },
  "language_info": {
   "codemirror_mode": {
    "name": "ipython",
    "version": 3
   },
   "file_extension": ".py",
   "mimetype": "text/x-python",
   "name": "python",
   "nbconvert_exporter": "python",
   "pygments_lexer": "ipython3",
   "version": "3.11.11"
  }
 },
 "nbformat": 4,
 "nbformat_minor": 2
}
